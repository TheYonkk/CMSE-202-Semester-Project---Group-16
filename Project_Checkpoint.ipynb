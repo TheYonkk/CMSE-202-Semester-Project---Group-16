{
 "cells": [
  {
   "cell_type": "markdown",
   "metadata": {},
   "source": [
    "# Project Checkpoint\n",
    "---\n",
    "Dave, Victor, Luke, Henry"
   ]
  },
  {
   "cell_type": "markdown",
   "metadata": {},
   "source": [
    "<img src=\"https://live.staticflickr.com/65535/49127949753_5c58735146_b.jpg\" alt=\"oil testing\" width=\"750\"/>\n",
    "<img src=\"https://live.staticflickr.com/65535/49650505352_4068629cb9_b.jpg\" alt=\"driver display\" width=\"350\"/>"
   ]
  },
  {
   "cell_type": "markdown",
   "metadata": {},
   "source": [
    "## Problem\n",
    "The goal of this project is to create a model that determines if the current oil pressure in a racing engine is acceptable. By using previously recorded data from the MSU Formula Racing Team, a model will be created using instances of good and poor oil pressure.\n",
    "\n",
    "Once a model is created, it can be used to analyze data in real-time on the MSU race car. If poor oil-pressure is detected, the driver can be notified in real time - perhaps saving an engine from destruction and a driver from injury."
   ]
  },
  {
   "cell_type": "markdown",
   "metadata": {},
   "source": [
    "## Data\n",
    "The data will be provided from the MSU Formula Racing Team, via Dave, a leader of the team.\n",
    "\n",
    "The data was collected in different testing sessions on last year's competition car. There's several minutes worth of data recordings with signals logged up to 100Hz (plenty fast for our use!). There is data that shows good oil pressure, and there's also data that shows poor oil pressure that led to an engine failure.\n",
    "\n",
    "There should be no issues with the data that Dave has provided, however, there are hundreds of gigabytes more on the EGR Formula Racing Server."
   ]
  },
  {
   "cell_type": "markdown",
   "metadata": {},
   "source": [
    "## Model\n",
    "The model is yet to be determined. Something along the lines of a regression may work, however, we would like to use a machine learning model similar to those that we have learned about in class. An SVM model may work, however, the data is not linearly seperable, so there may need to be some preprocessing."
   ]
  },
  {
   "cell_type": "markdown",
   "metadata": {},
   "source": [
    "## Testing\n",
    "An easy way to test the model would be to perform a training/testing split of the original data and them compare the fit of the testing data to the model. However, unfortunately the MSU Formula Racing Team has blown more than one engine, so we can take the data from another failure, run it through the model, and see if a failure (abnormally low oil pressure) is detected."
   ]
  },
  {
   "cell_type": "markdown",
   "metadata": {},
   "source": [
    "## Results\n",
    "N/A"
   ]
  },
  {
   "cell_type": "markdown",
   "metadata": {},
   "source": [
    "## Conclusion\n",
    "N/A"
   ]
  },
  {
   "cell_type": "code",
   "execution_count": null,
   "metadata": {},
   "outputs": [],
   "source": []
  }
 ],
 "metadata": {
  "kernelspec": {
   "display_name": "Python 3",
   "language": "python",
   "name": "python3"
  },
  "language_info": {
   "codemirror_mode": {
    "name": "ipython",
    "version": 3
   },
   "file_extension": ".py",
   "mimetype": "text/x-python",
   "name": "python",
   "nbconvert_exporter": "python",
   "pygments_lexer": "ipython3",
   "version": "3.7.5"
  }
 },
 "nbformat": 4,
 "nbformat_minor": 2
}
